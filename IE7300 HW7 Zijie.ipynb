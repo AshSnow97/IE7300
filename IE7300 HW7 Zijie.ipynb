{
 "cells": [
  {
   "cell_type": "code",
   "execution_count": 139,
   "id": "2cd23e77-420a-4d06-af64-382308c9e0f6",
   "metadata": {},
   "outputs": [
    {
     "name": "stdout",
     "output_type": "stream",
     "text": [
      "IE 7300: Statistical learning for Engineering\n",
      "\n",
      "\n",
      "\n",
      "\n",
      "\n",
      "\n",
      "\n",
      "\n",
      "\n",
      "\n",
      "\n",
      "\n",
      "\n",
      "\n",
      "\n",
      "\n",
      "Homework -7\n",
      "Student name :Zijie Li\n",
      "Student Email :li.zijie@northeastern.edu\n",
      "\n",
      "\n",
      "\n",
      "\n",
      "\n",
      "\n",
      "\n",
      "\n",
      "\n",
      "\n",
      "\n",
      "\n",
      "\n",
      "\n",
      "\n",
      "\n",
      "Percentage of Effort Contributed by Student : 100%\n",
      "Submission Date: 2022-11-01\n"
     ]
    }
   ],
   "source": [
    "from datetime import date\n",
    "studentName=\"Zijie Li\"\n",
    "studentEmail=\"li.zijie@northeastern.edu\"\n",
    "homework=7\n",
    "contributedPercentage=100\n",
    "print(\"IE 7300: Statistical learning for Engineering\")\n",
    "print(\"\\n\"*15)\n",
    "print(f'Homework -{homework}')\n",
    "print(f'Student name :{studentName}')\n",
    "print(f'Student Email :{studentEmail}')\n",
    "print(\"\\n\"*15)\n",
    "print(f'Percentage of Effort Contributed by Student : {contributedPercentage}%')\n",
    "print(f'Submission Date: {date.today()}')"
   ]
  },
  {
   "cell_type": "code",
   "execution_count": 79,
   "id": "0dc6e4ca-ca33-4d58-9896-22f71808d11d",
   "metadata": {},
   "outputs": [],
   "source": [
    "import pandas as pd\n",
    "import numpy as np\n",
    "import seaborn as sns\n",
    "import matplotlib.pyplot as plt\n",
    "from sklearn import metrics\n",
    "from typing import Dict, Any, List\n",
    "from sklearn.base import clone\n",
    "from sklearn.preprocessing import StandardScaler\n",
    "import warnings\n",
    "\n",
    "#suppress warnings\n",
    "warnings.filterwarnings('ignore')"
   ]
  },
  {
   "cell_type": "code",
   "execution_count": 96,
   "id": "5a62dac0-8516-4c6e-89b9-effa15699133",
   "metadata": {},
   "outputs": [],
   "source": [
    "#Custom decision tree regressor\n",
    "from statmodels.decisiontrees import decisiontreeregressor\n",
    "#Custom random forest regressor\n",
    "from statmodels.random_forest import RandomForestRegressor\n",
    "#Custom lasso regressor\n",
    "from statmodels.regression import LassoRegression\n",
    "#Custom gradient boosting regressor\n",
    "from statmodels.gradientboosting import GradientBoostTreeRegressor\n",
    "\n",
    "#Find performance\n",
    "from sklearn.metrics import mean_squared_error, r2_score"
   ]
  },
  {
   "cell_type": "code",
   "execution_count": 2,
   "id": "a1b27bbe-45d6-450f-9ac4-fd86c585040d",
   "metadata": {},
   "outputs": [
    {
     "data": {
      "text/html": [
       "<div>\n",
       "<style scoped>\n",
       "    .dataframe tbody tr th:only-of-type {\n",
       "        vertical-align: middle;\n",
       "    }\n",
       "\n",
       "    .dataframe tbody tr th {\n",
       "        vertical-align: top;\n",
       "    }\n",
       "\n",
       "    .dataframe thead th {\n",
       "        text-align: right;\n",
       "    }\n",
       "</style>\n",
       "<table border=\"1\" class=\"dataframe\">\n",
       "  <thead>\n",
       "    <tr style=\"text-align: right;\">\n",
       "      <th></th>\n",
       "      <th>date</th>\n",
       "      <th>Appliances</th>\n",
       "      <th>lights</th>\n",
       "      <th>T1</th>\n",
       "      <th>RH_1</th>\n",
       "      <th>T2</th>\n",
       "      <th>RH_2</th>\n",
       "      <th>T3</th>\n",
       "      <th>RH_3</th>\n",
       "      <th>T4</th>\n",
       "      <th>...</th>\n",
       "      <th>T9</th>\n",
       "      <th>RH_9</th>\n",
       "      <th>T_out</th>\n",
       "      <th>Press_mm_hg</th>\n",
       "      <th>RH_out</th>\n",
       "      <th>Windspeed</th>\n",
       "      <th>Visibility</th>\n",
       "      <th>Tdewpoint</th>\n",
       "      <th>rv1</th>\n",
       "      <th>rv2</th>\n",
       "    </tr>\n",
       "  </thead>\n",
       "  <tbody>\n",
       "    <tr>\n",
       "      <th>0</th>\n",
       "      <td>2016-01-11 17:00:00</td>\n",
       "      <td>60</td>\n",
       "      <td>30</td>\n",
       "      <td>19.89</td>\n",
       "      <td>47.596667</td>\n",
       "      <td>19.2</td>\n",
       "      <td>44.790000</td>\n",
       "      <td>19.79</td>\n",
       "      <td>44.730000</td>\n",
       "      <td>19.000000</td>\n",
       "      <td>...</td>\n",
       "      <td>17.033333</td>\n",
       "      <td>45.53</td>\n",
       "      <td>6.600000</td>\n",
       "      <td>733.5</td>\n",
       "      <td>92.0</td>\n",
       "      <td>7.000000</td>\n",
       "      <td>63.000000</td>\n",
       "      <td>5.3</td>\n",
       "      <td>13.275433</td>\n",
       "      <td>13.275433</td>\n",
       "    </tr>\n",
       "    <tr>\n",
       "      <th>1</th>\n",
       "      <td>2016-01-11 17:10:00</td>\n",
       "      <td>60</td>\n",
       "      <td>30</td>\n",
       "      <td>19.89</td>\n",
       "      <td>46.693333</td>\n",
       "      <td>19.2</td>\n",
       "      <td>44.722500</td>\n",
       "      <td>19.79</td>\n",
       "      <td>44.790000</td>\n",
       "      <td>19.000000</td>\n",
       "      <td>...</td>\n",
       "      <td>17.066667</td>\n",
       "      <td>45.56</td>\n",
       "      <td>6.483333</td>\n",
       "      <td>733.6</td>\n",
       "      <td>92.0</td>\n",
       "      <td>6.666667</td>\n",
       "      <td>59.166667</td>\n",
       "      <td>5.2</td>\n",
       "      <td>18.606195</td>\n",
       "      <td>18.606195</td>\n",
       "    </tr>\n",
       "    <tr>\n",
       "      <th>2</th>\n",
       "      <td>2016-01-11 17:20:00</td>\n",
       "      <td>50</td>\n",
       "      <td>30</td>\n",
       "      <td>19.89</td>\n",
       "      <td>46.300000</td>\n",
       "      <td>19.2</td>\n",
       "      <td>44.626667</td>\n",
       "      <td>19.79</td>\n",
       "      <td>44.933333</td>\n",
       "      <td>18.926667</td>\n",
       "      <td>...</td>\n",
       "      <td>17.000000</td>\n",
       "      <td>45.50</td>\n",
       "      <td>6.366667</td>\n",
       "      <td>733.7</td>\n",
       "      <td>92.0</td>\n",
       "      <td>6.333333</td>\n",
       "      <td>55.333333</td>\n",
       "      <td>5.1</td>\n",
       "      <td>28.642668</td>\n",
       "      <td>28.642668</td>\n",
       "    </tr>\n",
       "    <tr>\n",
       "      <th>3</th>\n",
       "      <td>2016-01-11 17:30:00</td>\n",
       "      <td>50</td>\n",
       "      <td>40</td>\n",
       "      <td>19.89</td>\n",
       "      <td>46.066667</td>\n",
       "      <td>19.2</td>\n",
       "      <td>44.590000</td>\n",
       "      <td>19.79</td>\n",
       "      <td>45.000000</td>\n",
       "      <td>18.890000</td>\n",
       "      <td>...</td>\n",
       "      <td>17.000000</td>\n",
       "      <td>45.40</td>\n",
       "      <td>6.250000</td>\n",
       "      <td>733.8</td>\n",
       "      <td>92.0</td>\n",
       "      <td>6.000000</td>\n",
       "      <td>51.500000</td>\n",
       "      <td>5.0</td>\n",
       "      <td>45.410389</td>\n",
       "      <td>45.410389</td>\n",
       "    </tr>\n",
       "    <tr>\n",
       "      <th>4</th>\n",
       "      <td>2016-01-11 17:40:00</td>\n",
       "      <td>60</td>\n",
       "      <td>40</td>\n",
       "      <td>19.89</td>\n",
       "      <td>46.333333</td>\n",
       "      <td>19.2</td>\n",
       "      <td>44.530000</td>\n",
       "      <td>19.79</td>\n",
       "      <td>45.000000</td>\n",
       "      <td>18.890000</td>\n",
       "      <td>...</td>\n",
       "      <td>17.000000</td>\n",
       "      <td>45.40</td>\n",
       "      <td>6.133333</td>\n",
       "      <td>733.9</td>\n",
       "      <td>92.0</td>\n",
       "      <td>5.666667</td>\n",
       "      <td>47.666667</td>\n",
       "      <td>4.9</td>\n",
       "      <td>10.084097</td>\n",
       "      <td>10.084097</td>\n",
       "    </tr>\n",
       "  </tbody>\n",
       "</table>\n",
       "<p>5 rows × 29 columns</p>\n",
       "</div>"
      ],
      "text/plain": [
       "                  date  Appliances  lights     T1       RH_1    T2       RH_2  \\\n",
       "0  2016-01-11 17:00:00          60      30  19.89  47.596667  19.2  44.790000   \n",
       "1  2016-01-11 17:10:00          60      30  19.89  46.693333  19.2  44.722500   \n",
       "2  2016-01-11 17:20:00          50      30  19.89  46.300000  19.2  44.626667   \n",
       "3  2016-01-11 17:30:00          50      40  19.89  46.066667  19.2  44.590000   \n",
       "4  2016-01-11 17:40:00          60      40  19.89  46.333333  19.2  44.530000   \n",
       "\n",
       "      T3       RH_3         T4  ...         T9   RH_9     T_out  Press_mm_hg  \\\n",
       "0  19.79  44.730000  19.000000  ...  17.033333  45.53  6.600000        733.5   \n",
       "1  19.79  44.790000  19.000000  ...  17.066667  45.56  6.483333        733.6   \n",
       "2  19.79  44.933333  18.926667  ...  17.000000  45.50  6.366667        733.7   \n",
       "3  19.79  45.000000  18.890000  ...  17.000000  45.40  6.250000        733.8   \n",
       "4  19.79  45.000000  18.890000  ...  17.000000  45.40  6.133333        733.9   \n",
       "\n",
       "   RH_out  Windspeed  Visibility  Tdewpoint        rv1        rv2  \n",
       "0    92.0   7.000000   63.000000        5.3  13.275433  13.275433  \n",
       "1    92.0   6.666667   59.166667        5.2  18.606195  18.606195  \n",
       "2    92.0   6.333333   55.333333        5.1  28.642668  28.642668  \n",
       "3    92.0   6.000000   51.500000        5.0  45.410389  45.410389  \n",
       "4    92.0   5.666667   47.666667        4.9  10.084097  10.084097  \n",
       "\n",
       "[5 rows x 29 columns]"
      ]
     },
     "execution_count": 2,
     "metadata": {},
     "output_type": "execute_result"
    }
   ],
   "source": [
    "df = pd.read_csv(\"energydata_complete.csv\")\n",
    "df.head()"
   ]
  },
  {
   "cell_type": "code",
   "execution_count": 3,
   "id": "fc2e7e36-b6b4-431a-9647-b2cc8fab29ed",
   "metadata": {},
   "outputs": [
    {
     "data": {
      "text/plain": [
       "(19735, 29)"
      ]
     },
     "execution_count": 3,
     "metadata": {},
     "output_type": "execute_result"
    }
   ],
   "source": [
    "df.shape"
   ]
  },
  {
   "cell_type": "markdown",
   "id": "9a283b66-10c3-4395-8e35-8c580d08ba35",
   "metadata": {},
   "source": [
    "Since the dataset is too large we need to do some data aggration to avoid long time execution.\n",
    "The data will take every 60 mins average."
   ]
  },
  {
   "cell_type": "code",
   "execution_count": 5,
   "id": "b652d769-9447-40c0-9238-fdb793ff4c4b",
   "metadata": {},
   "outputs": [
    {
     "data": {
      "text/plain": [
       "date            object\n",
       "Appliances       int64\n",
       "lights           int64\n",
       "T1             float64\n",
       "RH_1           float64\n",
       "T2             float64\n",
       "RH_2           float64\n",
       "T3             float64\n",
       "RH_3           float64\n",
       "T4             float64\n",
       "RH_4           float64\n",
       "T5             float64\n",
       "RH_5           float64\n",
       "T6             float64\n",
       "RH_6           float64\n",
       "T7             float64\n",
       "RH_7           float64\n",
       "T8             float64\n",
       "RH_8           float64\n",
       "T9             float64\n",
       "RH_9           float64\n",
       "T_out          float64\n",
       "Press_mm_hg    float64\n",
       "RH_out         float64\n",
       "Windspeed      float64\n",
       "Visibility     float64\n",
       "Tdewpoint      float64\n",
       "rv1            float64\n",
       "rv2            float64\n",
       "dtype: object"
      ]
     },
     "execution_count": 5,
     "metadata": {},
     "output_type": "execute_result"
    }
   ],
   "source": [
    "df.dtypes"
   ]
  },
  {
   "cell_type": "code",
   "execution_count": 6,
   "id": "a241d479-0492-48d7-bbb9-b8855933e9dd",
   "metadata": {},
   "outputs": [
    {
     "data": {
      "text/html": [
       "<div>\n",
       "<style scoped>\n",
       "    .dataframe tbody tr th:only-of-type {\n",
       "        vertical-align: middle;\n",
       "    }\n",
       "\n",
       "    .dataframe tbody tr th {\n",
       "        vertical-align: top;\n",
       "    }\n",
       "\n",
       "    .dataframe thead th {\n",
       "        text-align: right;\n",
       "    }\n",
       "</style>\n",
       "<table border=\"1\" class=\"dataframe\">\n",
       "  <thead>\n",
       "    <tr style=\"text-align: right;\">\n",
       "      <th></th>\n",
       "      <th>Appliances</th>\n",
       "      <th>lights</th>\n",
       "      <th>T1</th>\n",
       "      <th>RH_1</th>\n",
       "      <th>T2</th>\n",
       "      <th>RH_2</th>\n",
       "      <th>T3</th>\n",
       "      <th>RH_3</th>\n",
       "      <th>T4</th>\n",
       "      <th>RH_4</th>\n",
       "      <th>...</th>\n",
       "      <th>T9</th>\n",
       "      <th>RH_9</th>\n",
       "      <th>T_out</th>\n",
       "      <th>Press_mm_hg</th>\n",
       "      <th>RH_out</th>\n",
       "      <th>Windspeed</th>\n",
       "      <th>Visibility</th>\n",
       "      <th>Tdewpoint</th>\n",
       "      <th>rv1</th>\n",
       "      <th>rv2</th>\n",
       "    </tr>\n",
       "  </thead>\n",
       "  <tbody>\n",
       "    <tr>\n",
       "      <th>0</th>\n",
       "      <td>55.000000</td>\n",
       "      <td>35.000000</td>\n",
       "      <td>19.890000</td>\n",
       "      <td>46.502778</td>\n",
       "      <td>19.200000</td>\n",
       "      <td>44.626528</td>\n",
       "      <td>19.790000</td>\n",
       "      <td>44.897778</td>\n",
       "      <td>18.932778</td>\n",
       "      <td>45.738750</td>\n",
       "      <td>...</td>\n",
       "      <td>17.016667</td>\n",
       "      <td>45.446667</td>\n",
       "      <td>6.308333</td>\n",
       "      <td>733.750000</td>\n",
       "      <td>92.000000</td>\n",
       "      <td>6.166667</td>\n",
       "      <td>53.416667</td>\n",
       "      <td>5.050000</td>\n",
       "      <td>26.823044</td>\n",
       "      <td>26.823044</td>\n",
       "    </tr>\n",
       "    <tr>\n",
       "      <th>1</th>\n",
       "      <td>176.666667</td>\n",
       "      <td>51.666667</td>\n",
       "      <td>19.897778</td>\n",
       "      <td>45.879028</td>\n",
       "      <td>19.268889</td>\n",
       "      <td>44.438889</td>\n",
       "      <td>19.770000</td>\n",
       "      <td>44.863333</td>\n",
       "      <td>18.908333</td>\n",
       "      <td>46.066667</td>\n",
       "      <td>...</td>\n",
       "      <td>16.981667</td>\n",
       "      <td>45.290000</td>\n",
       "      <td>5.941667</td>\n",
       "      <td>734.266667</td>\n",
       "      <td>91.583333</td>\n",
       "      <td>5.416667</td>\n",
       "      <td>40.000000</td>\n",
       "      <td>4.658333</td>\n",
       "      <td>22.324206</td>\n",
       "      <td>22.324206</td>\n",
       "    </tr>\n",
       "    <tr>\n",
       "      <th>2</th>\n",
       "      <td>173.333333</td>\n",
       "      <td>25.000000</td>\n",
       "      <td>20.495556</td>\n",
       "      <td>52.805556</td>\n",
       "      <td>19.925556</td>\n",
       "      <td>46.061667</td>\n",
       "      <td>20.052222</td>\n",
       "      <td>47.227361</td>\n",
       "      <td>18.969444</td>\n",
       "      <td>47.815556</td>\n",
       "      <td>...</td>\n",
       "      <td>16.902222</td>\n",
       "      <td>45.311389</td>\n",
       "      <td>6.000000</td>\n",
       "      <td>734.791667</td>\n",
       "      <td>89.750000</td>\n",
       "      <td>6.000000</td>\n",
       "      <td>40.000000</td>\n",
       "      <td>4.391667</td>\n",
       "      <td>33.734932</td>\n",
       "      <td>33.734932</td>\n",
       "    </tr>\n",
       "    <tr>\n",
       "      <th>3</th>\n",
       "      <td>125.000000</td>\n",
       "      <td>35.000000</td>\n",
       "      <td>20.961111</td>\n",
       "      <td>48.453333</td>\n",
       "      <td>20.251111</td>\n",
       "      <td>45.632639</td>\n",
       "      <td>20.213889</td>\n",
       "      <td>47.268889</td>\n",
       "      <td>19.190833</td>\n",
       "      <td>49.227917</td>\n",
       "      <td>...</td>\n",
       "      <td>16.890000</td>\n",
       "      <td>45.118889</td>\n",
       "      <td>6.000000</td>\n",
       "      <td>735.283333</td>\n",
       "      <td>87.583333</td>\n",
       "      <td>6.000000</td>\n",
       "      <td>40.000000</td>\n",
       "      <td>4.016667</td>\n",
       "      <td>25.679642</td>\n",
       "      <td>25.679642</td>\n",
       "    </tr>\n",
       "    <tr>\n",
       "      <th>4</th>\n",
       "      <td>103.333333</td>\n",
       "      <td>23.333333</td>\n",
       "      <td>21.311667</td>\n",
       "      <td>45.768333</td>\n",
       "      <td>20.587778</td>\n",
       "      <td>44.961111</td>\n",
       "      <td>20.373333</td>\n",
       "      <td>46.164444</td>\n",
       "      <td>19.425556</td>\n",
       "      <td>47.918889</td>\n",
       "      <td>...</td>\n",
       "      <td>16.890000</td>\n",
       "      <td>44.807778</td>\n",
       "      <td>5.833333</td>\n",
       "      <td>735.566667</td>\n",
       "      <td>87.416667</td>\n",
       "      <td>6.000000</td>\n",
       "      <td>40.000000</td>\n",
       "      <td>3.816667</td>\n",
       "      <td>18.826274</td>\n",
       "      <td>18.826274</td>\n",
       "    </tr>\n",
       "  </tbody>\n",
       "</table>\n",
       "<p>5 rows × 28 columns</p>\n",
       "</div>"
      ],
      "text/plain": [
       "   Appliances     lights         T1       RH_1         T2       RH_2  \\\n",
       "0   55.000000  35.000000  19.890000  46.502778  19.200000  44.626528   \n",
       "1  176.666667  51.666667  19.897778  45.879028  19.268889  44.438889   \n",
       "2  173.333333  25.000000  20.495556  52.805556  19.925556  46.061667   \n",
       "3  125.000000  35.000000  20.961111  48.453333  20.251111  45.632639   \n",
       "4  103.333333  23.333333  21.311667  45.768333  20.587778  44.961111   \n",
       "\n",
       "          T3       RH_3         T4       RH_4  ...         T9       RH_9  \\\n",
       "0  19.790000  44.897778  18.932778  45.738750  ...  17.016667  45.446667   \n",
       "1  19.770000  44.863333  18.908333  46.066667  ...  16.981667  45.290000   \n",
       "2  20.052222  47.227361  18.969444  47.815556  ...  16.902222  45.311389   \n",
       "3  20.213889  47.268889  19.190833  49.227917  ...  16.890000  45.118889   \n",
       "4  20.373333  46.164444  19.425556  47.918889  ...  16.890000  44.807778   \n",
       "\n",
       "      T_out  Press_mm_hg     RH_out  Windspeed  Visibility  Tdewpoint  \\\n",
       "0  6.308333   733.750000  92.000000   6.166667   53.416667   5.050000   \n",
       "1  5.941667   734.266667  91.583333   5.416667   40.000000   4.658333   \n",
       "2  6.000000   734.791667  89.750000   6.000000   40.000000   4.391667   \n",
       "3  6.000000   735.283333  87.583333   6.000000   40.000000   4.016667   \n",
       "4  5.833333   735.566667  87.416667   6.000000   40.000000   3.816667   \n",
       "\n",
       "         rv1        rv2  \n",
       "0  26.823044  26.823044  \n",
       "1  22.324206  22.324206  \n",
       "2  33.734932  33.734932  \n",
       "3  25.679642  25.679642  \n",
       "4  18.826274  18.826274  \n",
       "\n",
       "[5 rows x 28 columns]"
      ]
     },
     "execution_count": 6,
     "metadata": {},
     "output_type": "execute_result"
    }
   ],
   "source": [
    "new = df.groupby(np.arange(len(df))//6).mean()\n",
    "new.head()"
   ]
  },
  {
   "cell_type": "code",
   "execution_count": 7,
   "id": "ac4d6369-fee3-46bd-8450-492663acd900",
   "metadata": {},
   "outputs": [
    {
     "data": {
      "text/html": [
       "<div>\n",
       "<style scoped>\n",
       "    .dataframe tbody tr th:only-of-type {\n",
       "        vertical-align: middle;\n",
       "    }\n",
       "\n",
       "    .dataframe tbody tr th {\n",
       "        vertical-align: top;\n",
       "    }\n",
       "\n",
       "    .dataframe thead th {\n",
       "        text-align: right;\n",
       "    }\n",
       "</style>\n",
       "<table border=\"1\" class=\"dataframe\">\n",
       "  <thead>\n",
       "    <tr style=\"text-align: right;\">\n",
       "      <th></th>\n",
       "      <th>Appliances</th>\n",
       "      <th>lights</th>\n",
       "      <th>T1</th>\n",
       "      <th>RH_1</th>\n",
       "      <th>T2</th>\n",
       "      <th>RH_2</th>\n",
       "      <th>T3</th>\n",
       "      <th>RH_3</th>\n",
       "      <th>T4</th>\n",
       "      <th>RH_4</th>\n",
       "      <th>...</th>\n",
       "      <th>RH_8</th>\n",
       "      <th>T9</th>\n",
       "      <th>RH_9</th>\n",
       "      <th>T_out</th>\n",
       "      <th>Press_mm_hg</th>\n",
       "      <th>RH_out</th>\n",
       "      <th>Windspeed</th>\n",
       "      <th>Visibility</th>\n",
       "      <th>Tdewpoint</th>\n",
       "      <th>rv1</th>\n",
       "    </tr>\n",
       "  </thead>\n",
       "  <tbody>\n",
       "    <tr>\n",
       "      <th>0</th>\n",
       "      <td>55.000000</td>\n",
       "      <td>35.000000</td>\n",
       "      <td>19.890000</td>\n",
       "      <td>46.502778</td>\n",
       "      <td>19.200000</td>\n",
       "      <td>44.626528</td>\n",
       "      <td>19.790000</td>\n",
       "      <td>44.897778</td>\n",
       "      <td>18.932778</td>\n",
       "      <td>45.738750</td>\n",
       "      <td>...</td>\n",
       "      <td>48.710556</td>\n",
       "      <td>17.016667</td>\n",
       "      <td>45.446667</td>\n",
       "      <td>6.308333</td>\n",
       "      <td>733.750000</td>\n",
       "      <td>92.000000</td>\n",
       "      <td>6.166667</td>\n",
       "      <td>53.416667</td>\n",
       "      <td>5.050000</td>\n",
       "      <td>26.823044</td>\n",
       "    </tr>\n",
       "    <tr>\n",
       "      <th>1</th>\n",
       "      <td>176.666667</td>\n",
       "      <td>51.666667</td>\n",
       "      <td>19.897778</td>\n",
       "      <td>45.879028</td>\n",
       "      <td>19.268889</td>\n",
       "      <td>44.438889</td>\n",
       "      <td>19.770000</td>\n",
       "      <td>44.863333</td>\n",
       "      <td>18.908333</td>\n",
       "      <td>46.066667</td>\n",
       "      <td>...</td>\n",
       "      <td>48.597222</td>\n",
       "      <td>16.981667</td>\n",
       "      <td>45.290000</td>\n",
       "      <td>5.941667</td>\n",
       "      <td>734.266667</td>\n",
       "      <td>91.583333</td>\n",
       "      <td>5.416667</td>\n",
       "      <td>40.000000</td>\n",
       "      <td>4.658333</td>\n",
       "      <td>22.324206</td>\n",
       "    </tr>\n",
       "    <tr>\n",
       "      <th>2</th>\n",
       "      <td>173.333333</td>\n",
       "      <td>25.000000</td>\n",
       "      <td>20.495556</td>\n",
       "      <td>52.805556</td>\n",
       "      <td>19.925556</td>\n",
       "      <td>46.061667</td>\n",
       "      <td>20.052222</td>\n",
       "      <td>47.227361</td>\n",
       "      <td>18.969444</td>\n",
       "      <td>47.815556</td>\n",
       "      <td>...</td>\n",
       "      <td>49.213333</td>\n",
       "      <td>16.902222</td>\n",
       "      <td>45.311389</td>\n",
       "      <td>6.000000</td>\n",
       "      <td>734.791667</td>\n",
       "      <td>89.750000</td>\n",
       "      <td>6.000000</td>\n",
       "      <td>40.000000</td>\n",
       "      <td>4.391667</td>\n",
       "      <td>33.734932</td>\n",
       "    </tr>\n",
       "    <tr>\n",
       "      <th>3</th>\n",
       "      <td>125.000000</td>\n",
       "      <td>35.000000</td>\n",
       "      <td>20.961111</td>\n",
       "      <td>48.453333</td>\n",
       "      <td>20.251111</td>\n",
       "      <td>45.632639</td>\n",
       "      <td>20.213889</td>\n",
       "      <td>47.268889</td>\n",
       "      <td>19.190833</td>\n",
       "      <td>49.227917</td>\n",
       "      <td>...</td>\n",
       "      <td>50.195556</td>\n",
       "      <td>16.890000</td>\n",
       "      <td>45.118889</td>\n",
       "      <td>6.000000</td>\n",
       "      <td>735.283333</td>\n",
       "      <td>87.583333</td>\n",
       "      <td>6.000000</td>\n",
       "      <td>40.000000</td>\n",
       "      <td>4.016667</td>\n",
       "      <td>25.679642</td>\n",
       "    </tr>\n",
       "    <tr>\n",
       "      <th>4</th>\n",
       "      <td>103.333333</td>\n",
       "      <td>23.333333</td>\n",
       "      <td>21.311667</td>\n",
       "      <td>45.768333</td>\n",
       "      <td>20.587778</td>\n",
       "      <td>44.961111</td>\n",
       "      <td>20.373333</td>\n",
       "      <td>46.164444</td>\n",
       "      <td>19.425556</td>\n",
       "      <td>47.918889</td>\n",
       "      <td>...</td>\n",
       "      <td>49.542222</td>\n",
       "      <td>16.890000</td>\n",
       "      <td>44.807778</td>\n",
       "      <td>5.833333</td>\n",
       "      <td>735.566667</td>\n",
       "      <td>87.416667</td>\n",
       "      <td>6.000000</td>\n",
       "      <td>40.000000</td>\n",
       "      <td>3.816667</td>\n",
       "      <td>18.826274</td>\n",
       "    </tr>\n",
       "  </tbody>\n",
       "</table>\n",
       "<p>5 rows × 27 columns</p>\n",
       "</div>"
      ],
      "text/plain": [
       "   Appliances     lights         T1       RH_1         T2       RH_2  \\\n",
       "0   55.000000  35.000000  19.890000  46.502778  19.200000  44.626528   \n",
       "1  176.666667  51.666667  19.897778  45.879028  19.268889  44.438889   \n",
       "2  173.333333  25.000000  20.495556  52.805556  19.925556  46.061667   \n",
       "3  125.000000  35.000000  20.961111  48.453333  20.251111  45.632639   \n",
       "4  103.333333  23.333333  21.311667  45.768333  20.587778  44.961111   \n",
       "\n",
       "          T3       RH_3         T4       RH_4  ...       RH_8         T9  \\\n",
       "0  19.790000  44.897778  18.932778  45.738750  ...  48.710556  17.016667   \n",
       "1  19.770000  44.863333  18.908333  46.066667  ...  48.597222  16.981667   \n",
       "2  20.052222  47.227361  18.969444  47.815556  ...  49.213333  16.902222   \n",
       "3  20.213889  47.268889  19.190833  49.227917  ...  50.195556  16.890000   \n",
       "4  20.373333  46.164444  19.425556  47.918889  ...  49.542222  16.890000   \n",
       "\n",
       "        RH_9     T_out  Press_mm_hg     RH_out  Windspeed  Visibility  \\\n",
       "0  45.446667  6.308333   733.750000  92.000000   6.166667   53.416667   \n",
       "1  45.290000  5.941667   734.266667  91.583333   5.416667   40.000000   \n",
       "2  45.311389  6.000000   734.791667  89.750000   6.000000   40.000000   \n",
       "3  45.118889  6.000000   735.283333  87.583333   6.000000   40.000000   \n",
       "4  44.807778  5.833333   735.566667  87.416667   6.000000   40.000000   \n",
       "\n",
       "   Tdewpoint        rv1  \n",
       "0   5.050000  26.823044  \n",
       "1   4.658333  22.324206  \n",
       "2   4.391667  33.734932  \n",
       "3   4.016667  25.679642  \n",
       "4   3.816667  18.826274  \n",
       "\n",
       "[5 rows x 27 columns]"
      ]
     },
     "execution_count": 7,
     "metadata": {},
     "output_type": "execute_result"
    }
   ],
   "source": [
    "new = new.drop(['rv2'],axis=1)\n",
    "new.head()"
   ]
  },
  {
   "cell_type": "code",
   "execution_count": 68,
   "id": "0ed865cd-286c-4e02-9d21-bf61a6c69b3f",
   "metadata": {},
   "outputs": [],
   "source": [
    "X = new\n",
    "y = new['rv1']\n",
    "X = X.drop(['rv1'],axis=1)\n",
    "from sklearn.model_selection import train_test_split\n",
    "X_train,X_test,y_train,y_test=train_test_split(X,y,test_size=0.2)"
   ]
  },
  {
   "cell_type": "markdown",
   "id": "f658cff9-8635-4f5c-a4a8-04a14583f01e",
   "metadata": {},
   "source": [
    "a) Fit the model using the training dataset and find the model RMSE and R-Square. Explain each model's outcome, finding, and accuracy. "
   ]
  },
  {
   "cell_type": "markdown",
   "id": "639bd498-f84f-4837-be20-2e8bd7c79140",
   "metadata": {},
   "source": [
    "### Lasso"
   ]
  },
  {
   "cell_type": "code",
   "execution_count": 104,
   "id": "65fd051b-707c-41d8-8486-59f57429a23e",
   "metadata": {},
   "outputs": [
    {
     "name": "stdout",
     "output_type": "stream",
     "text": [
      "Lasso model cofficients : [ 2.50099745e+01 -6.55780548e-04  5.93560050e-03 -3.27180395e-03\n",
      " -1.12518485e-02 -7.67739812e-03  2.77264615e-03  3.01000257e-04\n",
      "  1.18303011e-03  7.85264472e-03 -5.63223433e-03  6.93090450e-03\n",
      "  5.85402161e-04 -8.36184178e-03 -4.26603615e-06 -9.16941897e-03\n",
      " -6.95095268e-03 -4.37734731e-03 -6.18248745e-03  3.70548984e-04\n",
      " -8.97813061e-03 -1.21629558e-02  8.04477101e-03  6.85409479e-03\n",
      "  5.76228339e-05  7.83942744e-04  2.80093700e-03]\n",
      "Lasso Regression - Root Mean Squared error: 7.6862\n",
      "Lasso Regression - R-Squared: -0.747\n"
     ]
    }
   ],
   "source": [
    "sc = StandardScaler()\n",
    "X_tranformed = pd.DataFrame(sc.fit_transform(X_train))\n",
    "\n",
    "lassoModel = LassoRegression()\n",
    "lassoModel.fit(X_tranformed.values, y_train) \n",
    "print(\"Lasso model cofficients :\",lassoModel.coef_)\n",
    "y_hat = lassoModel.predict(X_test.to_numpy())\n",
    "\n",
    "print('Lasso Regression - Root Mean Squared error:', round(mean_squared_error(y_test,y_hat,squared=False),4))\n",
    "print('Lasso Regression - R-Squared:', round(r2_score(y_test,y_hat),4))"
   ]
  },
  {
   "cell_type": "code",
   "execution_count": 101,
   "id": "138dc2df-b213-4171-b836-01b26fd9c9c0",
   "metadata": {},
   "outputs": [
    {
     "data": {
      "text/plain": [
       "24.988033485049435"
      ]
     },
     "execution_count": 101,
     "metadata": {},
     "output_type": "execute_result"
    }
   ],
   "source": [
    "df['rv1'].mean()"
   ]
  },
  {
   "cell_type": "markdown",
   "id": "85f44ec6-d9b7-474e-98bf-6a153242b90f",
   "metadata": {},
   "source": [
    "For Lasso regression, the model outcome with a RMSE 7.6862 is a bad perfomance result.\\\n",
    "For the mean of target is around 25, RMSE is too large, and the R-squared is -2.2769 which indicates that model follow the data's trend very bad.\\\n",
    "Overall, the Lasso performance is bad and maynot be suitable for this dataset."
   ]
  },
  {
   "cell_type": "markdown",
   "id": "07bbed48-6a5b-49e5-a6ba-470b80c49da6",
   "metadata": {},
   "source": [
    "### Decision Tree"
   ]
  },
  {
   "cell_type": "code",
   "execution_count": 90,
   "id": "2f90e31b-79dd-42a3-9109-7023643d7e9f",
   "metadata": {},
   "outputs": [],
   "source": [
    "dtmodel = decisiontreeregressor(min_samples_split=3, max_depth=3)\n",
    "dtmodel.fit(X_train,y_train.reshape(-1,1))\n",
    "y_pred = dtmodel.predict(X_test.to_numpy())"
   ]
  },
  {
   "cell_type": "code",
   "execution_count": 103,
   "id": "b650d837-903f-4b66-bce0-5c4f00905295",
   "metadata": {},
   "outputs": [
    {
     "name": "stdout",
     "output_type": "stream",
     "text": [
      "Decision Tree - Root Mean Squared error: 5.9486\n",
      "Decision Tree - R-Squared: -0.0465\n"
     ]
    }
   ],
   "source": [
    "print('Decision Tree - Root Mean Squared error:', round(mean_squared_error(y_test,y_pred,squared=False),4))\n",
    "print('Decision Tree - R-Squared:', round(r2_score(y_test,y_pred),4))"
   ]
  },
  {
   "cell_type": "markdown",
   "id": "51fda1e4-1bf2-4b03-a193-82db032ccb7e",
   "metadata": {},
   "source": [
    "For decision tree model, RMSE is around 6 which is also a poor number but slightly better than Lasso Model.\\\n",
    "The R2 score is -0.0465 which also bad, the model cannot get the features trend and follow the trends.\\\n",
    "Overall, the decision tree model has better performance than Lasso model but the accuracy is not acceptable either."
   ]
  },
  {
   "cell_type": "markdown",
   "id": "618c4710-6a8a-4127-96a7-82ff69232efd",
   "metadata": {},
   "source": [
    "### Random Forest"
   ]
  },
  {
   "cell_type": "code",
   "execution_count": 97,
   "id": "0d633735-58b7-42c3-8464-b5dba46f942a",
   "metadata": {},
   "outputs": [],
   "source": [
    "rfmodel = RandomForestRegressor()\n",
    "rfmodel.fit(X_train.to_numpy(),y_train)"
   ]
  },
  {
   "cell_type": "code",
   "execution_count": 105,
   "id": "a4fbd8bd-e716-4449-850a-f77240b0c481",
   "metadata": {},
   "outputs": [
    {
     "name": "stdout",
     "output_type": "stream",
     "text": [
      "Random Forest - Root Mean Squared error: 6.1096\n",
      "Random Forest - R-Squared: -0.1038\n"
     ]
    }
   ],
   "source": [
    "y_pred_rf = rfmodel.predict(X_test.to_numpy())\n",
    "print('Random Forest - Root Mean Squared error:', round(mean_squared_error(y_test,y_pred_rf,squared=False),4))\n",
    "print('Random Forest - R-Squared:', round(r2_score(y_test,y_pred_rf),4))"
   ]
  },
  {
   "cell_type": "markdown",
   "id": "2a0f5fba-1194-4b21-9898-96cdfb9be0eb",
   "metadata": {},
   "source": [
    "For the Random Forest model, the RMSE score is around 6.1 which is similar to the decision tree model.\\\n",
    "The R2 score is -0.1 which is slightly worse than the decision tree's R2. This means Random Forest model is also not follow the data trend well.\\\n",
    "This might because Random Forest model also use the same decision tree model as a weaklearner.\\\n",
    "Overall, the accuracy of prediction is still not acceptable."
   ]
  },
  {
   "cell_type": "markdown",
   "id": "8090b8c5-61c2-40b4-90f9-fa0bc24267f1",
   "metadata": {},
   "source": [
    "### Gradient Boost"
   ]
  },
  {
   "cell_type": "code",
   "execution_count": 99,
   "id": "3a5bee33-c74e-4e7e-91e4-71d121eea000",
   "metadata": {},
   "outputs": [
    {
     "name": "stdout",
     "output_type": "stream",
     "text": [
      "CPU times: total: 24min 27s\n",
      "Wall time: 24min 30s\n"
     ]
    }
   ],
   "source": [
    "%%time\n",
    "gradBoostModel = GradientBoostTreeRegressor(n_elements=500, learning_rate=0.01)\n",
    "    \n",
    "#fit the model\n",
    "gradBoostModel.fit(X_train.values,y_train)\n",
    "\n",
    "y_pred_gb = gradBoostModel.predict(X_test.values)\n"
   ]
  },
  {
   "cell_type": "code",
   "execution_count": 106,
   "id": "a569991b-b2fe-42ec-8038-36a7b845d71f",
   "metadata": {},
   "outputs": [
    {
     "name": "stdout",
     "output_type": "stream",
     "text": [
      "Gradient Boost - Root Mean Squared error: 5.9084\n",
      "Gradiemt Boost - R-Squared: -0.0323\n"
     ]
    }
   ],
   "source": [
    "print('Gradient Boost - Root Mean Squared error:', round(mean_squared_error(y_test,y_pred_gb,squared=False),4))\n",
    "print('Gradiemt Boost - R-Squared:', round(r2_score(y_test,y_pred_gb),4))"
   ]
  },
  {
   "cell_type": "markdown",
   "id": "af937432-8dc0-4c7b-9691-8384687a43c3",
   "metadata": {},
   "source": [
    "Within all 4 models, Gradient Boost has the best performance with a RMSE 5.9.\\\n",
    "For the R-squared -0.03, the model follow the trend of data is still worse than a horizental line.\\\n",
    "The accuracy is still poor."
   ]
  },
  {
   "cell_type": "markdown",
   "id": "510b94eb-cdff-4bf3-8dfe-392975f52b45",
   "metadata": {},
   "source": [
    "b) Predict the models using the test dataset, and provide the performance metrics. Compare the four models' performance metrics, and explain at least four findings on each of the models. Do not repeat the code to fit the model. "
   ]
  },
  {
   "cell_type": "markdown",
   "id": "510c578c-082f-447c-b3c1-5ecbbb44a19b",
   "metadata": {},
   "source": [
    "### Lasso"
   ]
  },
  {
   "cell_type": "code",
   "execution_count": 112,
   "id": "4a034121-958f-4898-927e-ac919c00de8a",
   "metadata": {},
   "outputs": [
    {
     "name": "stdout",
     "output_type": "stream",
     "text": [
      "Lasso Regression - Mean Absolute Error: 6.2838\n",
      "Lasso Regression - Root Mean Squared error: 7.6862\n",
      "Lasso Regression - R-Squared: -0.747\n"
     ]
    }
   ],
   "source": [
    "from sklearn.metrics import mean_absolute_error\n",
    "\n",
    "print('Lasso Regression - Mean Absolute Error:',round(mean_absolute_error(y_test,y_hat),4))\n",
    "print('Lasso Regression - Root Mean Squared error:', round(mean_squared_error(y_test,y_hat,squared=False),4))\n",
    "print('Lasso Regression - R-Squared:', round(r2_score(y_test,y_hat),4))"
   ]
  },
  {
   "cell_type": "markdown",
   "id": "22cbae62-9eb2-4d7f-b2d7-eaaaf0f7eb52",
   "metadata": {},
   "source": [
    "Low MAE values indicate that the model is correctly predicting. Larger MAE values indicate that the model is poor at prediction.\\\n",
    "Use the R2 score to get the accuracy of your model on a percentage scale, that is 0–100, just like in a classification model.\\\n",
    "Another commonly used metric is the root mean squared error, which is the square root of the average squared distance (difference between actual and predicted value).\\\n",
    "Use the RMSE to determine whether there are any large errors or distances that could be caused if the model overestimated the prediction (that is the model predicted values that were significantly higher than the actual value) or underestimated the predictions (that is, predicted values less than actual prediction).\\\n",
    "In the Lasso model, we could see all the metrics indicate bab performance, and the fit of the data is really bad.\\\n",
    "The data aggregation might be a problem and there is no feature selection phase before the fitting.\n",
    " "
   ]
  },
  {
   "cell_type": "markdown",
   "id": "2738c983-9856-4a1e-8f5d-d37be3724c05",
   "metadata": {},
   "source": [
    "### Desicion Tree"
   ]
  },
  {
   "cell_type": "code",
   "execution_count": 113,
   "id": "d0a28d20-60b3-424a-b8a8-a7b87e3e2da8",
   "metadata": {},
   "outputs": [
    {
     "name": "stdout",
     "output_type": "stream",
     "text": [
      "Decision Tree - Mean Absolute Error: 4.7834\n",
      "Decision Tree - Root Mean Squared error: 5.9486\n",
      "Decision Tree - R-Squared: -0.0465\n"
     ]
    }
   ],
   "source": [
    "print('Decision Tree - Mean Absolute Error:',round(mean_absolute_error(y_test,y_pred),4))\n",
    "print('Decision Tree - Root Mean Squared error:', round(mean_squared_error(y_test,y_pred,squared=False),4))\n",
    "print('Decision Tree - R-Squared:', round(r2_score(y_test,y_pred),4))"
   ]
  },
  {
   "cell_type": "markdown",
   "id": "2509d39a-7be8-45af-9b2b-db26c39cd245",
   "metadata": {},
   "source": [
    "The Decision Tree model also under the expectation.\\\n",
    "The metrics indicate the modedl is slightly better than the Lasso model.\\\n",
    "The possible reason is because the data quality is not good and the feature in training is not suitable for the Model."
   ]
  },
  {
   "cell_type": "markdown",
   "id": "284253bf-9a54-43c2-9a50-c71852d702a8",
   "metadata": {},
   "source": [
    "### Random Forest"
   ]
  },
  {
   "cell_type": "code",
   "execution_count": 114,
   "id": "a63433b8-06aa-4202-b0a1-890a0affb3c5",
   "metadata": {},
   "outputs": [
    {
     "name": "stdout",
     "output_type": "stream",
     "text": [
      "Random Forest - Mean Absolute Error: 4.8627\n",
      "Random Forest - Root Mean Squared error: 6.1096\n",
      "Random Forest - R-Squared: -0.1038\n"
     ]
    }
   ],
   "source": [
    "print('Random Forest - Mean Absolute Error:',round(mean_absolute_error(y_test,y_pred_rf),4))\n",
    "print('Random Forest - Root Mean Squared error:', round(mean_squared_error(y_test,y_pred_rf,squared=False),4))\n",
    "print('Random Forest - R-Squared:', round(r2_score(y_test,y_pred_rf),4))"
   ]
  },
  {
   "cell_type": "markdown",
   "id": "448a6b46-653f-4e8d-96fc-9087ef0bb122",
   "metadata": {},
   "source": [
    "The Random Forest model has a similar performance to the decision tree model.\\\n",
    "The possible reason is the Random Forest also use the decision tree model as a base model of the random forest.\\\n",
    "To improve the performance we need to make the decision tree model fit data better."
   ]
  },
  {
   "cell_type": "markdown",
   "id": "a7aec868-11af-43c6-a338-af12276bd325",
   "metadata": {},
   "source": [
    "### Gradient Boost"
   ]
  },
  {
   "cell_type": "code",
   "execution_count": 115,
   "id": "3316b9bd-e91d-4e22-809c-9431bbd0a2ec",
   "metadata": {},
   "outputs": [
    {
     "name": "stdout",
     "output_type": "stream",
     "text": [
      "Gradient Boost - Mean Absolute Error: 4.7415\n",
      "Gradient Boost - Root Mean Squared error: 5.9084\n",
      "Gradiemt Boost - R-Squared: -0.0323\n"
     ]
    }
   ],
   "source": [
    "print('Gradient Boost - Mean Absolute Error:',round(mean_absolute_error(y_test,y_pred_gb),4))\n",
    "print('Gradient Boost - Root Mean Squared error:', round(mean_squared_error(y_test,y_pred_gb,squared=False),4))\n",
    "print('Gradiemt Boost - R-Squared:', round(r2_score(y_test,y_pred_gb),4))"
   ]
  },
  {
   "cell_type": "markdown",
   "id": "996af305-18cc-42bb-92e2-6c5f79f06d67",
   "metadata": {},
   "source": [
    "For Gradient Boost model, this also use the decision tree model as a base learner. However, the gradient boost model perform better than the Random Forest model.\\\n",
    "The potential reason is the gradient boost model perform the decision tree much more times than the random forest model.\\\n",
    "To improve the performance, the most basic reason is feature selections and tuning the decision tree."
   ]
  },
  {
   "cell_type": "markdown",
   "id": "bd3b56ee-6f4b-476d-b294-2866ee84af54",
   "metadata": {},
   "source": [
    "c) Do you see any bias and variance issues? How do you interpret each model output? "
   ]
  },
  {
   "cell_type": "markdown",
   "id": "606b10bc-18b3-4cb2-8e28-6f9730f913c5",
   "metadata": {},
   "source": [
    "__Underfitting occurs when the model is unable to match the input data to the target data. This happens when the model is not complex enough to match all the available data and performs poorly with the training dataset.__\n",
    "\n",
    "__Overfitting relates to instances where the model tries to match non-existent data. This occurs when dealing with highly complex models where the model will match almost all the given data points and perform well in training datasets. However, the model would not be able to generalize the data point in the test data set to predict the outcome accurately.__"
   ]
  },
  {
   "cell_type": "markdown",
   "id": "eb8a73bb-e70c-4ba2-a7e1-e955eb8e0f64",
   "metadata": {},
   "source": [
    "### Lasso"
   ]
  },
  {
   "cell_type": "code",
   "execution_count": 119,
   "id": "d14f028a-7c6a-407f-b111-80b029c35589",
   "metadata": {},
   "outputs": [
    {
     "name": "stdout",
     "output_type": "stream",
     "text": [
      "Lasso Train- Root Mean Squared error: 7.7192\n",
      "Lasso Train- R-Squared: -0.6699\n",
      "Lasso - Root Mean Squared error: 7.6862\n",
      "Lasso - R-Squared: -0.747\n"
     ]
    }
   ],
   "source": [
    "lt = lassoModel.predict(X_train.to_numpy())\n",
    "print('Lasso Train- Root Mean Squared error:', round(mean_squared_error(y_train,lt,squared=False),4))\n",
    "print('Lasso Train- R-Squared:', round(r2_score(y_train,lt),4))\n",
    "print('Lasso - Root Mean Squared error:', round(mean_squared_error(y_test,y_hat,squared=False),4))\n",
    "print('Lasso - R-Squared:', round(r2_score(y_test,y_hat),4))"
   ]
  },
  {
   "cell_type": "markdown",
   "id": "d1a5bdbf-5762-46eb-8f72-5dbffb8afc38",
   "metadata": {},
   "source": [
    "We could see the metrics for train and test set is both poor and have similar values.\\\n",
    "This indicate this model has high bias issue.\\\n",
    "To improve we need to increase the complexity of the model to count for bias and variance, thus decreasing the overall bias while increasing the variance to an acceptable level. "
   ]
  },
  {
   "cell_type": "markdown",
   "id": "e4d20684-17d5-4969-95b5-ac6f80430390",
   "metadata": {},
   "source": [
    "### Desicion Tree"
   ]
  },
  {
   "cell_type": "code",
   "execution_count": 120,
   "id": "845e848a-9012-492b-b59f-d43ee02572e6",
   "metadata": {},
   "outputs": [
    {
     "name": "stdout",
     "output_type": "stream",
     "text": [
      "Decision Tree Train- Root Mean Squared error: 5.8261\n",
      "Decision Tree Train- R-Squared: 0.0487\n",
      "Decision Tree - Root Mean Squared error: 5.9486\n",
      "Decision Tree - R-Squared: -0.0465\n"
     ]
    }
   ],
   "source": [
    "dt = dtmodel.predict(X_train.to_numpy())\n",
    "print('Decision Tree Train- Root Mean Squared error:', round(mean_squared_error(y_train,dt,squared=False),4))\n",
    "print('Decision Tree Train- R-Squared:', round(r2_score(y_train,dt),4))\n",
    "print('Decision Tree - Root Mean Squared error:', round(mean_squared_error(y_test,y_pred,squared=False),4))\n",
    "print('Decision Tree - R-Squared:', round(r2_score(y_test,y_pred),4))"
   ]
  },
  {
   "cell_type": "markdown",
   "id": "8635fa06-43d0-487b-8c4b-175fe4ecd77d",
   "metadata": {},
   "source": [
    "Train dataset R2 score is siginificant larger than test dataset.\\\n",
    "This may be as sign for high variance issue.\\\n",
    "Increasing the training data set can help to balance bias-variance trade-off. This is the preferred method when dealing with overfitting models.\\\n",
    "Furthermore, this allows users to increase the complexity without variance errors that pollute the model as with a large data set."
   ]
  },
  {
   "cell_type": "markdown",
   "id": "ef49e1f1-02d6-47b1-b25c-af4ebf446c68",
   "metadata": {},
   "source": [
    "### Random Forest"
   ]
  },
  {
   "cell_type": "code",
   "execution_count": 122,
   "id": "0507c0a4-a681-471b-ba71-46cb403f40ce",
   "metadata": {},
   "outputs": [
    {
     "name": "stdout",
     "output_type": "stream",
     "text": [
      "Random Forest Train- Root Mean Squared error: 2.31\n",
      "Random Forest Train- R-Squared: 0.8505\n",
      "Random Forest - Root Mean Squared error: 6.1096\n",
      "Random Forest - R-Squared: -0.1038\n"
     ]
    }
   ],
   "source": [
    "rf = rfmodel.predict(X_train.to_numpy())\n",
    "print('Random Forest Train- Root Mean Squared error:', round(mean_squared_error(y_train,rf,squared=False),4))\n",
    "print('Random Forest Train- R-Squared:', round(r2_score(y_train,rf),4))\n",
    "print('Random Forest - Root Mean Squared error:', round(mean_squared_error(y_test,y_pred_rf,squared=False),4))\n",
    "print('Random Forest - R-Squared:', round(r2_score(y_test,y_pred_rf),4))"
   ]
  },
  {
   "cell_type": "markdown",
   "id": "9baf41b8-a753-4fc5-8141-1f92923449ef",
   "metadata": {},
   "source": [
    "Both RMSE and R2 score for the training dataset is way better than testing dataset.\\\n",
    "This means there is high variance problem.\\\n",
    "variance creates variance errors that lead to incorrect predictions seeing trends or data points that do not exist.\\\n",
    "However, the metrics also show the performance is not good for training dataset, this may because the preprocessiong of data is not good."
   ]
  },
  {
   "cell_type": "markdown",
   "id": "bb902151-8c1a-430e-9c30-8105d3801073",
   "metadata": {},
   "source": [
    "### Grradient Boost"
   ]
  },
  {
   "cell_type": "code",
   "execution_count": 123,
   "id": "ebd5bf6e-0be7-4c8e-bd9d-420cdccf0374",
   "metadata": {},
   "outputs": [
    {
     "name": "stdout",
     "output_type": "stream",
     "text": [
      "Gradient Boost Train - Root Mean Squared error: 5.4371\n",
      "Gradiemt Boost Train - R-Squared: 0.1715\n",
      "Gradient Boost - Root Mean Squared error: 5.9084\n",
      "Gradiemt Boost - R-Squared: -0.0323\n"
     ]
    }
   ],
   "source": [
    "gb = gradBoostModel.predict(X_train.values)\n",
    "print('Gradient Boost Train - Root Mean Squared error:', round(mean_squared_error(y_train,gb,squared=False),4))\n",
    "print('Gradiemt Boost Train - R-Squared:', round(r2_score(y_train,gb),4))\n",
    "print('Gradient Boost - Root Mean Squared error:', round(mean_squared_error(y_test,y_pred_gb,squared=False),4))\n",
    "print('Gradiemt Boost - R-Squared:', round(r2_score(y_test,y_pred_gb),4))"
   ]
  },
  {
   "cell_type": "markdown",
   "id": "bd809daf-1ee4-4d59-bcf3-cc082aea7160",
   "metadata": {},
   "source": [
    "The performance between train and test dataset has no large difference.\\\n",
    "There is slightly variance issue. The model performance is still bad, the reason should also be the original dataset is not well preprocessed."
   ]
  },
  {
   "cell_type": "markdown",
   "id": "f8a6bd2b-d689-418c-a70a-ca851ae50e27",
   "metadata": {},
   "source": [
    "d) Write a function to find important features in each model? Why is it an important feature of the model? Explain with some statistical evidence."
   ]
  },
  {
   "cell_type": "code",
   "execution_count": 131,
   "id": "320ef25f-b6b4-44ee-98f4-d806dc823d72",
   "metadata": {},
   "outputs": [],
   "source": [
    "def get_score_after_permutation(model, X, y, curr_feat):\n",
    "    \"\"\" return the score of model when curr_feat is permuted \"\"\"\n",
    "\n",
    "    X_permuted = X.copy()\n",
    "    col_idx = list(X.columns).index(curr_feat)\n",
    "    # permute one column\n",
    "    X_permuted.iloc[:, col_idx] = np.random.permutation(\n",
    "        X_permuted[curr_feat].values)\n",
    "    y_pred = model.predict(X_permuted.values)\n",
    "\n",
    "    permuted_score = r2_score(y, y_pred)\n",
    "    return permuted_score\n",
    "\n",
    "\n",
    "def get_feature_importance(model, X, y, curr_feat):\n",
    "    \"\"\" compare the score when curr_feat is permuted \"\"\"\n",
    "    y_pred = model.predict(X.values)\n",
    "\n",
    "    baseline_score_train = r2_score(y, y_pred)\n",
    "    permuted_score_train = get_score_after_permutation(model, X, y, curr_feat)\n",
    "\n",
    "    # feature importance is the difference between the two scores\n",
    "    feature_importance = baseline_score_train - permuted_score_train\n",
    "    return feature_importance\n",
    "    \n",
    "def permutation_importance(model, X, y, n_repeats=10):\n",
    "    \"\"\"Calculate importance score for each feature.\"\"\"\n",
    "\n",
    "    importances = []\n",
    "    for curr_feat in X.columns:\n",
    "        list_feature_importance = []\n",
    "        for n_round in range(n_repeats):\n",
    "            list_feature_importance.append(\n",
    "                get_feature_importance(model, X, y, curr_feat))\n",
    "\n",
    "        importances.append(list_feature_importance)\n",
    "\n",
    "    return {'importances_mean': np.mean(importances, axis=1),\n",
    "            'importances_std': np.std(importances, axis=1),\n",
    "            'importances': importances}\n",
    "\n",
    "def plot_feature_importances(perm_importance_result, feat_name):\n",
    "    \"\"\" bar plot the feature importance \"\"\"\n",
    "\n",
    "    fig, ax = plt.subplots()\n",
    "\n",
    "    indices = perm_importance_result['importances_mean'].argsort()\n",
    "    plt.barh(range(len(indices)),\n",
    "             perm_importance_result['importances_mean'][indices],\n",
    "             xerr=perm_importance_result['importances_std'][indices])\n",
    "\n",
    "    ax.set_yticks(range(len(indices)))\n",
    "    _ = ax.set_yticklabels(feat_name[indices])"
   ]
  },
  {
   "cell_type": "markdown",
   "id": "5668586c-aadb-4c6f-88a4-1fadcad950e3",
   "metadata": {},
   "source": [
    "###  Feature importance for Lasso regression"
   ]
  },
  {
   "cell_type": "code",
   "execution_count": 124,
   "id": "acfae4d2-bf13-4b8c-8f7e-e54bf8029ce0",
   "metadata": {},
   "outputs": [],
   "source": [
    "lassoImportantfeatures = pd.DataFrame(data={'feature': X.columns})\n",
    "lassoImportantfeatures[\"importance\"] = pd.DataFrame(lassoModel.coef_[1:])\n",
    "lassoImportantfeatures = lassoImportantfeatures.sort_values(by='importance', ascending=False)"
   ]
  },
  {
   "cell_type": "code",
   "execution_count": 125,
   "id": "3204925a-35ca-4c3d-8238-d18a96c84c0f",
   "metadata": {},
   "outputs": [
    {
     "data": {
      "image/png": "[encoded data removed]",
      "text/plain": [
       "<Figure size 640x480 with 1 Axes>"
      ]
     },
     "metadata": {},
     "output_type": "display_data"
    }
   ],
   "source": [
    "plt.bar(x=lassoImportantfeatures['feature'], height=lassoImportantfeatures['importance'], color='#087E8B')\n",
    "plt.title('Feature importances - for lasso regresion')\n",
    "plt.xticks(rotation='vertical')\n",
    "plt.show()"
   ]
  },
  {
   "cell_type": "markdown",
   "id": "7592a431-11fa-48a7-b6fc-8086d7ba9349",
   "metadata": {},
   "source": [
    "The feature which has longer distance to the 0 indicate more important to the model.\\\n",
    "With coefficient, we could say 'Press_mm_hg','T4\",'T5','RH_out','RH_4'till the end of the plot are the important features to this model. "
   ]
  },
  {
   "cell_type": "markdown",
   "id": "85b79e5a-860f-41db-b8ac-d390f5c73ad4",
   "metadata": {},
   "source": [
    "### Decision Tree Feature Importance"
   ]
  },
  {
   "cell_type": "code",
   "execution_count": 127,
   "id": "c477d255-522c-487b-a2e1-c5f633546520",
   "metadata": {},
   "outputs": [
    {
     "name": "stdout",
     "output_type": "stream",
     "text": [
      "|- RH_out <= 83.58333333333333 :Variance Red 0.1502\n",
      " left-->|- Visibility <= 23.333333333333332 :Variance Red 0.3122\n",
      "  left-->|- RH_7 <= 28.238888888888898 :Variance Red 2.7869\n",
      "    left-->|- RH_3 <= 35.462696428571434 :Variance Red 16.6816\n",
      "        left-->24.2615\n",
      "        right-->32.5739\n",
      "    right-->|- lights <= 0.0 :Variance Red 3.6904\n",
      "        left-->27.3491\n",
      "        right-->23.4848\n",
      "  right-->|- RH_9 <= 35.57444444444445 :Variance Red 0.266\n",
      "    left-->|- T9 <= 22.947095238095248 :Variance Red 3.9325\n",
      "        left-->25.5341\n",
      "        right-->31.8163\n",
      "    right-->|- T6 <= 4.663055555555556 :Variance Red 0.2179\n",
      "        left-->25.4719\n",
      "        right-->24.1378\n",
      " right-->|- T4 <= 17.902222222222235 :Variance Red 0.4918\n",
      "  left-->|- T3 <= 20.828888888888883 :Variance Red 2.3438\n",
      "    left-->|- RH_6 <= 89.4136111111111 :Variance Red 1.5776\n",
      "        left-->20.2531\n",
      "        right-->23.6654\n",
      "    right-->7.7271\n",
      "  right-->|- RH_5 <= 42.1715238095238 :Variance Red 0.259\n",
      "    left-->|- RH_4 <= 34.01 :Variance Red 5.5753\n",
      "        left-->24.6027\n",
      "        right-->29.6969\n",
      "    right-->|- RH_7 <= 27.306666666666683 :Variance Red 0.2579\n",
      "        left-->19.398\n",
      "        right-->25.5398\n"
     ]
    }
   ],
   "source": [
    "dtmodel.print_tree()"
   ]
  },
  {
   "cell_type": "code",
   "execution_count": 128,
   "id": "40feebd0-673e-4edf-883e-78e25df6ffca",
   "metadata": {},
   "outputs": [
    {
     "data": {
      "text/html": [
       "<div>\n",
       "<style scoped>\n",
       "    .dataframe tbody tr th:only-of-type {\n",
       "        vertical-align: middle;\n",
       "    }\n",
       "\n",
       "    .dataframe tbody tr th {\n",
       "        vertical-align: top;\n",
       "    }\n",
       "\n",
       "    .dataframe thead th {\n",
       "        text-align: right;\n",
       "    }\n",
       "</style>\n",
       "<table border=\"1\" class=\"dataframe\">\n",
       "  <thead>\n",
       "    <tr style=\"text-align: right;\">\n",
       "      <th></th>\n",
       "      <th>featurename</th>\n",
       "      <th>treelevel</th>\n",
       "    </tr>\n",
       "  </thead>\n",
       "  <tbody>\n",
       "    <tr>\n",
       "      <th>13</th>\n",
       "      <td>RH_out</td>\n",
       "      <td>0</td>\n",
       "    </tr>\n",
       "    <tr>\n",
       "      <th>6</th>\n",
       "      <td>Visibility</td>\n",
       "      <td>1</td>\n",
       "    </tr>\n",
       "    <tr>\n",
       "      <th>12</th>\n",
       "      <td>T4</td>\n",
       "      <td>1</td>\n",
       "    </tr>\n",
       "    <tr>\n",
       "      <th>2</th>\n",
       "      <td>RH_7</td>\n",
       "      <td>2</td>\n",
       "    </tr>\n",
       "    <tr>\n",
       "      <th>5</th>\n",
       "      <td>RH_9</td>\n",
       "      <td>2</td>\n",
       "    </tr>\n",
       "    <tr>\n",
       "      <th>8</th>\n",
       "      <td>T3</td>\n",
       "      <td>2</td>\n",
       "    </tr>\n",
       "    <tr>\n",
       "      <th>11</th>\n",
       "      <td>RH_5</td>\n",
       "      <td>2</td>\n",
       "    </tr>\n",
       "    <tr>\n",
       "      <th>0</th>\n",
       "      <td>RH_3</td>\n",
       "      <td>3</td>\n",
       "    </tr>\n",
       "    <tr>\n",
       "      <th>1</th>\n",
       "      <td>lights</td>\n",
       "      <td>3</td>\n",
       "    </tr>\n",
       "    <tr>\n",
       "      <th>3</th>\n",
       "      <td>T9</td>\n",
       "      <td>3</td>\n",
       "    </tr>\n",
       "    <tr>\n",
       "      <th>4</th>\n",
       "      <td>T6</td>\n",
       "      <td>3</td>\n",
       "    </tr>\n",
       "    <tr>\n",
       "      <th>7</th>\n",
       "      <td>RH_6</td>\n",
       "      <td>3</td>\n",
       "    </tr>\n",
       "    <tr>\n",
       "      <th>9</th>\n",
       "      <td>RH_4</td>\n",
       "      <td>3</td>\n",
       "    </tr>\n",
       "    <tr>\n",
       "      <th>10</th>\n",
       "      <td>RH_7</td>\n",
       "      <td>3</td>\n",
       "    </tr>\n",
       "  </tbody>\n",
       "</table>\n",
       "</div>"
      ],
      "text/plain": [
       "   featurename  treelevel\n",
       "13      RH_out          0\n",
       "6   Visibility          1\n",
       "12          T4          1\n",
       "2         RH_7          2\n",
       "5         RH_9          2\n",
       "8           T3          2\n",
       "11        RH_5          2\n",
       "0         RH_3          3\n",
       "1       lights          3\n",
       "3           T9          3\n",
       "4           T6          3\n",
       "7         RH_6          3\n",
       "9         RH_4          3\n",
       "10        RH_7          3"
      ]
     },
     "execution_count": 128,
     "metadata": {},
     "output_type": "execute_result"
    }
   ],
   "source": [
    "dtFeatures = pd.DataFrame(dtmodel.get_features())\n",
    "dtFeatures.columns = ['featurename','treelevel']\n",
    "dtFeatures = dtFeatures.drop_duplicates()\n",
    "dtFeatures.sort_values('treelevel')"
   ]
  },
  {
   "cell_type": "markdown",
   "id": "e18a3941-398b-4983-a606-b6d5ad4bb065",
   "metadata": {},
   "source": [
    "Feature importance (FI) = Feature metric * number of instances – its left child node metric * number of instances for the left child – its right child node metric * number of instances for the right child\\\n"
   ]
  },
  {
   "cell_type": "markdown",
   "id": "2928dff0-cfe5-4807-ba27-82fe7da637f1",
   "metadata": {},
   "source": [
    "### Random Forest Feature Importance"
   ]
  },
  {
   "cell_type": "code",
   "execution_count": 134,
   "id": "4006cfd0-a9b1-4c55-9e26-c07657f2fa8b",
   "metadata": {},
   "outputs": [],
   "source": [
    "perm_importance_result_train = permutation_importance(\n",
    "    rfmodel, X_train, y_train, n_repeats=10)"
   ]
  },
  {
   "cell_type": "code",
   "execution_count": 135,
   "id": "093a315f-9b33-435a-bf94-8313df1af87e",
   "metadata": {},
   "outputs": [
    {
     "data": {
      "image/png": "[encoded data removed]",
      "text/plain": [
       "<Figure size 640x480 with 1 Axes>"
      ]
     },
     "metadata": {},
     "output_type": "display_data"
    }
   ],
   "source": [
    "plot_feature_importances(perm_importance_result_train, X_train.columns)"
   ]
  },
  {
   "cell_type": "markdown",
   "id": "0502eb2f-5233-49fa-8c73-28046d65030c",
   "metadata": {},
   "source": [
    "From the plot we could know that the 'RH_out' is most important and the 'light' is least important.\\\n",
    "The larger the value, the more important the feature."
   ]
  },
  {
   "cell_type": "markdown",
   "id": "91347cf0-c800-418b-9b3d-117ce3930ba0",
   "metadata": {},
   "source": [
    "### Gradient Boost Feature Importance"
   ]
  },
  {
   "cell_type": "code",
   "execution_count": 136,
   "id": "db81f9cf-cf3c-4cf0-becc-2d3b2cc6bd0d",
   "metadata": {},
   "outputs": [],
   "source": [
    "perm_importance_result_train = permutation_importance(\n",
    "   gradBoostModel, X_train, y_train, n_repeats=10)"
   ]
  },
  {
   "cell_type": "code",
   "execution_count": 137,
   "id": "43a2be4f-f674-41a9-aac9-cc50d6927501",
   "metadata": {},
   "outputs": [
    {
     "data": {
      "image/png": "[encoded data removed]",
      "text/plain": [
       "<Figure size 640x480 with 1 Axes>"
      ]
     },
     "metadata": {},
     "output_type": "display_data"
    }
   ],
   "source": [
    "plot_feature_importances(perm_importance_result_train, X_train.columns)"
   ]
  },
  {
   "cell_type": "markdown",
   "id": "c2bbd5aa-6de5-4d3d-b673-25d053e5ac90",
   "metadata": {},
   "source": [
    "From the plot we could know that the 'T4' is most important and the 'T9' is least important.\\\n",
    "The larger the value, the more important the feature."
   ]
  }
 ],
 "metadata": {
  "kernelspec": {
   "display_name": "Python 3 (ipykernel)",
   "language": "python",
   "name": "python3"
  },
  "language_info": {
   "codemirror_mode": {
    "name": "ipython",
    "version": 3
   },
   "file_extension": ".py",
   "mimetype": "text/x-python",
   "name": "python",
   "nbconvert_exporter": "python",
   "pygments_lexer": "ipython3",
   "version": "3.10.8"
  }
 },
 "nbformat": 4,
 "nbformat_minor": 5
}
